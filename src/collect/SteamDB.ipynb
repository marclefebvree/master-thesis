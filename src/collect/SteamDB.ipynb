{
 "cells": [
  {
   "cell_type": "markdown",
   "metadata": {},
   "source": [
    "# SteamDB scraper\n",
    "\n",
    "## Features\n",
    "- Loads gameid's from csv file\n",
    "- Detects a temporary ban and waits till it's able to reconnect\n",
    "- Scrapes PlayTracker ownership data for each given gameid\n",
    "- Exports results to csv file\n"
   ]
  },
  {
   "cell_type": "code",
   "execution_count": 85,
   "metadata": {},
   "outputs": [],
   "source": [
    "from selenium import webdriver\n",
    "from selenium.webdriver.common.by import By\n",
    "import os\n",
    "import time\n",
    "from pandas import *"
   ]
  },
  {
   "cell_type": "code",
   "execution_count": null,
   "metadata": {},
   "outputs": [],
   "source": [
    "\n",
    "# change options to prevent one of the webscraper mitigations done by SteamDB\n",
    "options = webdriver.ChromeOptions()\n",
    "options.add_argument(\"start-maximized\")\n",
    "options.add_experimental_option(\"excludeSwitches\", [\"enable-automation\"])\n",
    "options.add_experimental_option('useAutomationExtension', False)\n",
    "options.add_argument(\"--disable-blink-features=AutomationControlled\")\n",
    "driver = webdriver.Chrome(options=options, executable_path=r'C:\\Utilities\\BrowserDrivers\\chromedriver.exe')"
   ]
  },
  {
   "cell_type": "code",
   "execution_count": 14,
   "metadata": {},
   "outputs": [],
   "source": [
    "# create dataframe with csv as input\n",
    "data = read_csv('game_id.csv')\n",
    "# add owners amount column, set all values to -1 to note it hasn't scraped\n",
    "data['owners'] = -1"
   ]
  },
  {
   "cell_type": "code",
   "execution_count": 103,
   "metadata": {},
   "outputs": [],
   "source": [
    "# set row index to id \n",
    "data.set_index('id', inplace = True)"
   ]
  },
  {
   "cell_type": "code",
   "execution_count": 86,
   "metadata": {},
   "outputs": [],
   "source": [
    "def isTemporaryBanned():\n",
    "    return driver.find_elements(By.LINK_TEXT, 'the realtime updates page')\n",
    "\n",
    "# wait until temporary ban by SteamDB has been lifted \n",
    "def tempBanCheck(gameID):\n",
    "    if isTemporaryBanned():\n",
    "        print('We have been temporarily banned \\n')\n",
    "        canConnect = False\n",
    "        while not canConnect:\n",
    "            for secondsTillRetry in range(300):\n",
    "                print('{} seconds till retry'.format(str(secondsTillRetry).ljust(3, ' ')), end='\\r')\n",
    "                time.sleep(1)\n",
    "            # check if page is accessible \n",
    "            driver.get(\"https://steamdb.info/app/{}/\".format(gameID))\n",
    "            if not isTemporaryBanned():\n",
    "                canConnect = True\n",
    "                print('ban has been lifted!')\n",
    "            else:\n",
    "                print('still banned :(')"
   ]
  },
  {
   "cell_type": "code",
   "execution_count": 87,
   "metadata": {},
   "outputs": [],
   "source": [
    "# tries to click on charts button. \n",
    "# returns false if not found and sets owner count of that gameid to nan. \n",
    "def clickChartsButton():\n",
    "    tabs = driver.find_element_by_class_name('tabnav-tabs')\n",
    "    chartsButton = tabs.find_elements(By.LINK_TEXT, 'Charts')\n",
    "    if not chartsButton:\n",
    "        return False\n",
    "    else:\n",
    "        chartsButton[0].click()\n",
    "        return True"
   ]
  },
  {
   "cell_type": "code",
   "execution_count": 70,
   "metadata": {},
   "outputs": [],
   "source": [
    "def textToNumber(i):\n",
    "    switcher={\n",
    "            'M':1e6,\n",
    "            'k':1e3\n",
    "         }\n",
    "    return switcher.get(i,0)"
   ]
  },
  {
   "cell_type": "code",
   "execution_count": 109,
   "metadata": {},
   "outputs": [],
   "source": [
    "def scrapeOwnerCount(df, gameID):\n",
    "    # get all app-charts \n",
    "    appCharts = driver.find_element_by_class_name('row-app-charts')\n",
    "    # get owners chart\n",
    "    ownerEstimations = appCharts.find_elements_by_class_name('span6')[1]\n",
    "    # search for playTracker owners estimations \n",
    "    playTrackerElement = ownerEstimations.find_elements_by_tag_name('li')[1]\n",
    "    # make sure it is data from PlayTracker\n",
    "    if playTrackerElement.find_elements(By.LINK_TEXT, 'by PlayTracker'):\n",
    "        playTrackerData = playTrackerElement.text.split()\n",
    "        # convert string to number\n",
    "        highApproximation = float(playTrackerData[3]) * textToNumber(playTrackerData[4])\n",
    "        # save owner count to dataframe     \n",
    "        df['owners'][gameID] = highApproximation\n",
    "        return True\n",
    "    else: \n",
    "        df['owners'][gameID] = None\n",
    "        return False"
   ]
  },
  {
   "cell_type": "code",
   "execution_count": 121,
   "metadata": {},
   "outputs": [
    {
     "name": "stdout",
     "output_type": "stream",
     "text": [
      "We have been temporarily banned \n",
      "\n"
     ]
    }
   ],
   "source": [
    "# open webpage\n",
    "gameIDs = list(data.index.values)\n",
    "for gameID in gameIDs:\n",
    "    # check if data hasn't been scraped\n",
    "    rowVal = data['owners'][gameID]\n",
    "    if isna(rowVal):\n",
    "        rowVal = -1\n",
    "    if rowVal == -1:\n",
    "        # load page by gameid \n",
    "        driver.get(\"https://steamdb.info/app/{}/\".format(gameID))\n",
    "        driver.implicitly_wait(0.5)\n",
    "        tempBanCheck(gameID)\n",
    "        # check if Charts button exists, continue if non existent \n",
    "        if not clickChartsButton():\n",
    "            print(\"couldn't find charts for game: {}\".format(gameID))\n",
    "            # save owners count as NaN \n",
    "            data['owners'][gameID] = None\n",
    "            continue\n",
    "        scrapeOwnerCount(data, gameID)"
   ]
  },
  {
   "cell_type": "code",
   "execution_count": 92,
   "metadata": {},
   "outputs": [],
   "source": [
    "data.to_csv(r'results.csv', index = False, header = True)"
   ]
  },
  {
   "cell_type": "code",
   "execution_count": 119,
   "metadata": {},
   "outputs": [
    {
     "data": {
      "text/html": [
       "<div>\n",
       "<style scoped>\n",
       "    .dataframe tbody tr th:only-of-type {\n",
       "        vertical-align: middle;\n",
       "    }\n",
       "\n",
       "    .dataframe tbody tr th {\n",
       "        vertical-align: top;\n",
       "    }\n",
       "\n",
       "    .dataframe thead th {\n",
       "        text-align: right;\n",
       "    }\n",
       "</style>\n",
       "<table border=\"1\" class=\"dataframe\">\n",
       "  <thead>\n",
       "    <tr style=\"text-align: right;\">\n",
       "      <th></th>\n",
       "      <th>owners</th>\n",
       "    </tr>\n",
       "    <tr>\n",
       "      <th>id</th>\n",
       "      <th></th>\n",
       "    </tr>\n",
       "  </thead>\n",
       "  <tbody>\n",
       "    <tr>\n",
       "      <th>10</th>\n",
       "      <td>11100000.0</td>\n",
       "    </tr>\n",
       "    <tr>\n",
       "      <th>30</th>\n",
       "      <td>6400000.0</td>\n",
       "    </tr>\n",
       "    <tr>\n",
       "      <th>70</th>\n",
       "      <td>9300000.0</td>\n",
       "    </tr>\n",
       "    <tr>\n",
       "      <th>80</th>\n",
       "      <td>10500000.0</td>\n",
       "    </tr>\n",
       "    <tr>\n",
       "      <th>130</th>\n",
       "      <td>7700000.0</td>\n",
       "    </tr>\n",
       "    <tr>\n",
       "      <th>...</th>\n",
       "      <td>...</td>\n",
       "    </tr>\n",
       "    <tr>\n",
       "      <th>883710</th>\n",
       "      <td>&lt;NA&gt;</td>\n",
       "    </tr>\n",
       "    <tr>\n",
       "      <th>893180</th>\n",
       "      <td>-1</td>\n",
       "    </tr>\n",
       "    <tr>\n",
       "      <th>899440</th>\n",
       "      <td>-1</td>\n",
       "    </tr>\n",
       "    <tr>\n",
       "      <th>942970</th>\n",
       "      <td>-1</td>\n",
       "    </tr>\n",
       "    <tr>\n",
       "      <th>973760</th>\n",
       "      <td>-1</td>\n",
       "    </tr>\n",
       "  </tbody>\n",
       "</table>\n",
       "<p>1205 rows × 1 columns</p>\n",
       "</div>"
      ],
      "text/plain": [
       "            owners\n",
       "id                \n",
       "10      11100000.0\n",
       "30       6400000.0\n",
       "70       9300000.0\n",
       "80      10500000.0\n",
       "130      7700000.0\n",
       "...            ...\n",
       "883710        <NA>\n",
       "893180          -1\n",
       "899440          -1\n",
       "942970          -1\n",
       "973760          -1\n",
       "\n",
       "[1205 rows x 1 columns]"
      ]
     },
     "execution_count": 119,
     "metadata": {},
     "output_type": "execute_result"
    }
   ],
   "source": [
    "data"
   ]
  },
  {
   "cell_type": "code",
   "execution_count": null,
   "metadata": {},
   "outputs": [],
   "source": []
  },
  {
   "cell_type": "code",
   "execution_count": 118,
   "metadata": {},
   "outputs": [],
   "source": [
    "data.drop(data.columns[1], axis=1, inplace=True)"
   ]
  },
  {
   "cell_type": "code",
   "execution_count": 46,
   "metadata": {},
   "outputs": [
    {
     "name": "stdout",
     "output_type": "stream",
     "text": [
      "        numbers\n",
      "0    11100000.0\n",
      "1     6400000.0\n",
      "2     9300000.0\n",
      "3    10500000.0\n",
      "4     7700000.0\n",
      "..          ...\n",
      "290   3800000.0\n",
      "291   1700000.0\n",
      "292   2000000.0\n",
      "293   4200000.0\n",
      "294   2200000.0\n",
      "\n",
      "[295 rows x 1 columns]\n"
     ]
    }
   ],
   "source": [
    "text = '11100000.0\\n6400000.0\\n9300000.0\\n10500000.0\\n7700000.0\\n12800000.0\\n13000000.0\\n6700000.0\\n10700000.0\\n13400000.0\\n10600000.0\\n20000000.0\\n8600000.0\\n20100000.0\\n80500000.0\\n16600000.000000002\\n5500000.0\\n68800000.0\\n2100000.0\\n11700000.0\\n2600000.0\\n2800000.0\\n4300000.0\\n2100000.0\\n910000.0\\n2000000.0\\n1700000.0\\n5400000.0\\n2600000.0\\n1600000.0\\n680000.0\\n950000.0\\n1400000.0\\n400000.0\\n1800000.0\\n3900000.0\\n2900000.0\\n1800000.0\\n7400000.0\\n2900000.0\\n6700000.0\\n2400000.0\\n4000000.0\\n6700000.0\\n4400000.0\\n2300000.0\\n2900000.0\\n3200000.0\\n590000.0\\n4200000.0\\n2800000.0\\n3600000.0\\n3000000.0\\n5200000.0\\n2200000.0\\n1200000.0\\n1600000.0\\n1100000.0\\n1200000.0\\n850000.0\\n2300000.0\\n4099999.9999999995\\n4099999.9999999995\\n4400000.0\\n3400000.0\\n4300000.0\\n3300000.0\\n2500000.0\\n3300000.0\\n540000.0\\n3800000.0\\n3700000.0\\n1500000.0\\n2300000.0\\n3400000.0\\n2500000.0\\n3600000.0\\n1300000.0\\n9200000.0\\n4400000.0\\n3900000.0\\n2700000.0\\n9000000.0\\n9700000.0\\n1700000.0\\n1500000.0\\n3100000.0\\n2500000.0\\n2700000.0\\n8400000.0\\n1400000.0\\n2500000.0\\n3600000.0\\n1700000.0\\n4600000.0\\n420000.0\\n3100000.0\\n2500000.0\\n4500000.0\\n5000000.0\\n5500000.0\\n6900000.0\\n1600000.0\\n2900000.0\\n2600000.0\\n3200000.0\\n7900000.0\\n810000.0\\n1400000.0\\n3400000.0\\n2900000.0\\n1600000.0\\n2000000.0\\n1600000.0\\n1500000.0\\n2200000.0\\n1000000.0\\n1200000.0\\n2100000.0\\n1500000.0\\n850000.0\\n820000.0\\n1700000.0\\n3300000.0\\n4500000.0\\n1900000.0\\n1900000.0\\n2900000.0\\n2700000.0\\n2200000.0\\n3200000.0\\n7100000.0\\n1200000.0\\n2200000.0\\n3200000.0\\n5400000.0\\n1400000.0\\n2200000.0\\n1800000.0\\n2000000.0\\n3200000.0\\n990000.0\\n3600000.0\\n1700000.0\\n4400000.0\\n2400000.0\\n1600000.0\\n7100000.0\\n8500000.0\\n1800000.0\\n4000000.0\\n4900000.0\\n1700000.0\\n4300000.0\\n1100000.0\\n3500000.0\\n2900000.0\\n1800000.0\\n2200000.0\\n2700000.0\\n2200000.0\\n1900000.0\\n2700000.0\\n3900000.0\\n2900000.0\\n4400000.0\\n8000000.0\\n2400000.0\\n2600000.0\\n4500000.0\\n860000.0\\n8500000.0\\n1600000.0\\n1600000.0\\n5000000.0\\n1000000.0\\n3300000.0\\n1100000.0\\n830000.0\\n4099999.9999999995\\n3800000.0\\n2000000.0\\n570000.0\\n1700000.0\\n2000000.0\\n3000000.0\\n3200000.0\\n3200000.0\\n1400000.0\\n2500000.0\\n2800000.0\\n2100000.0\\n2400000.0\\n2800000.0\\n820000.0\\n1600000.0\\n6800000.0\\n3600000.0\\n2300000.0\\n3100000.0\\n4000000.0\\n3200000.0\\n3800000.0\\n6500000.0\\n8700000.0\\n4500000.0\\n6200000.0\\n7700000.0\\n3300000.0\\n3000000.0\\n2600000.0\\n2200000.0\\n2200000.0\\n3100000.0\\n1800000.0\\n1800000.0\\n1600000.0\\n1800000.0\\n1700000.0\\n1400000.0\\n1500000.0\\n2900000.0\\n3300000.0\\n930000.0\\n3600000.0\\n2700000.0\\n2600000.0\\n1700000.0\\n2300000.0\\n930000.0\\n3700000.0\\n5500000.0\\n1700000.0\\n2900000.0\\n3600000.0\\n3000000.0\\n820000.0\\n3400000.0\\n7100000.0\\n1600000.0\\n8900000.0\\n930000.0\\n3100000.0\\n790000.0\\n2200000.0\\n4099999.9999999995\\n4000000.0\\n1900000.0\\n610000.0\\n4000000.0\\n4099999.9999999995\\n2100000.0\\n2600000.0\\n2100000.0\\n8700000.0\\n210000.0\\n2100000.0\\n1200000.0\\n5200000.0\\n3300000.0\\n15000000.0\\n2700000.0\\n5400000.0\\n9200000.0\\n1500000.0\\n7500000.0\\n4400000.0\\n6800000.0\\n9100000.0\\n11500000.0\\n6800000.0\\n950000.0\\n2900000.0\\n1800000.0\\n930000.0\\n2300000.0\\n1600000.0\\n4099999.9999999995\\n7600000.0\\n1900000.0\\n8400000.0\\n5800000.0\\n3800000.0\\n1500000.0\\n2700000.0\\n3800000.0\\n11400000.0\\n1900000.0\\n1400000.0\\n4400000.0\\n3800000.0\\n1700000.0\\n2000000.0\\n4200000.0\\n2200000.0\\n'\n",
    "firstScrappy = text.split()\n",
    "scrape = DataFrame()\n",
    "scrape['numbers'] = firstScrappy\n",
    "scrape.to_csv(r'firstScrape.csv', index=False, header=True)"
   ]
  },
  {
   "cell_type": "code",
   "execution_count": 54,
   "metadata": {},
   "outputs": [
    {
     "name": "stderr",
     "output_type": "stream",
     "text": [
      "<ipython-input-54-9aeda20a2236>:3: SettingWithCopyWarning: \n",
      "A value is trying to be set on a copy of a slice from a DataFrame\n",
      "\n",
      "See the caveats in the documentation: https://pandas.pydata.org/pandas-docs/stable/user_guide/indexing.html#returning-a-view-versus-a-copy\n",
      "  data['owners'][i] = firstScrappy[i];\n"
     ]
    }
   ],
   "source": [
    "# add first scrape to data\n",
    "for i in range(len(firstScrappy)):\n",
    "    data['owners'][i] = firstScrappy[i];"
   ]
  }
 ],
 "metadata": {
  "kernelspec": {
   "display_name": "Python 3",
   "language": "python",
   "name": "python3"
  },
  "language_info": {
   "codemirror_mode": {
    "name": "ipython",
    "version": 3
   },
   "file_extension": ".py",
   "mimetype": "text/x-python",
   "name": "python",
   "nbconvert_exporter": "python",
   "pygments_lexer": "ipython3",
   "version": "3.8.8"
  }
 },
 "nbformat": 4,
 "nbformat_minor": 2
}
