{
 "cells": [
  {
   "cell_type": "code",
   "execution_count": 1,
   "metadata": {},
   "outputs": [],
   "source": [
    "# SteamSpy web scraper\n",
    "\n",
    "## Import libraries\n",
    "\n",
    "from bs4 import BeautifulSoup\n",
    "import requests\n",
    "import csv\n",
    "import pandas as pd\n",
    "import time"
   ]
  },
  {
   "cell_type": "code",
   "execution_count": 43,
   "metadata": {},
   "outputs": [
    {
     "name": "stdout",
     "output_type": "stream",
     "text": [
      " 88% \n"
     ]
    }
   ],
   "source": [
    "## Test information extraction on single game id\n",
    "\n",
    "html_text = requests.get('https://steamspy.com/app/10').text\n",
    "soup = BeautifulSoup(html_text, 'lxml')\n",
    "metascore = soup.find('strong', text = 'Metascore:').next_sibling\n",
    "print(metascore)"
   ]
  },
  {
   "cell_type": "code",
   "execution_count": 45,
   "metadata": {},
   "outputs": [
    {
     "name": "stdout",
     "output_type": "stream",
     "text": [
      "                       base_url       id                          full_url\n",
      "0     https://steamspy.com/app/       10       https://steamspy.com/app/10\n",
      "1     https://steamspy.com/app/       20       https://steamspy.com/app/20\n",
      "2     https://steamspy.com/app/       30       https://steamspy.com/app/30\n",
      "3     https://steamspy.com/app/       40       https://steamspy.com/app/40\n",
      "4     https://steamspy.com/app/       50       https://steamspy.com/app/50\n",
      "...                         ...      ...                               ...\n",
      "2361  https://steamspy.com/app/   991780   https://steamspy.com/app/991780\n",
      "2362  https://steamspy.com/app/   992300   https://steamspy.com/app/992300\n",
      "2363  https://steamspy.com/app/   994280   https://steamspy.com/app/994280\n",
      "2364  https://steamspy.com/app/   995460   https://steamspy.com/app/995460\n",
      "2365  https://steamspy.com/app/  1008710  https://steamspy.com/app/1008710\n",
      "\n",
      "[2366 rows x 3 columns]\n"
     ]
    }
   ],
   "source": [
    "## Import game_id.csv\n",
    "\n",
    "game_id = pd.read_csv('game_id.csv')\n",
    "\n",
    "## Create dataset with full urls\n",
    "\n",
    "game_id = game_id.drop('Unnamed: 0', 1)\n",
    "game_id = game_id.rename(columns = {'steam_ds.appid': 'id'})\n",
    "game_id['base_url'] = 'https://steamspy.com/app/'\n",
    "game_id = game_id[['base_url', 'id']]\n",
    "game_id['full_url'] = game_id['base_url'] + game_id['id'].astype(str) \n",
    "\n",
    "print(game_id)\n",
    "\n",
    "game_id.to_csv('game_url.csv', encoding = 'utf-8', index = False)\n",
    "\n",
    "## Create list with full urls\n",
    "\n",
    "url_list = game_id['full_url'].tolist()"
   ]
  },
  {
   "cell_type": "code",
   "execution_count": 39,
   "metadata": {},
   "outputs": [],
   "source": [
    "## Create variable for data collection\n",
    "\n",
    "expert_data = []\n",
    "\n",
    "## Scrape data \n",
    "\n",
    "def scrape_steamspy():\n",
    "    for i in range(0, 2365):\n",
    "        url = url_list[i]\n",
    "        html_text = requests.get(url).text\n",
    "        time.sleep(1)\n",
    "        soup = BeautifulSoup(html_text, 'lxml')\n",
    "    \n",
    "        try:\n",
    "            metascore = soup.find('strong', text = 'Metascore:').next_sibling\n",
    "            metascore\n",
    "        except:\n",
    "            metascore = 'NA'\n",
    "    \n",
    "        game_info = [\n",
    "        url,\n",
    "        metascore]\n",
    "        \n",
    "        expert_data.append(game_info)"
   ]
  },
  {
   "cell_type": "code",
   "execution_count": 40,
   "metadata": {},
   "outputs": [],
   "source": [
    "scrape_steamspy()\n",
    "\n",
    "metascore_df = pd.DataFrame(expert_data, columns = ['full_url', 'metascore'])\n",
    "\n",
    "metascore_df.to_csv('metascore.csv', encoding='utf-8', index=False)"
   ]
  }
 ],
 "metadata": {
  "kernelspec": {
   "display_name": "Python 3",
   "language": "python",
   "name": "python3"
  },
  "language_info": {
   "codemirror_mode": {
    "name": "ipython",
    "version": 3
   },
   "file_extension": ".py",
   "mimetype": "text/x-python",
   "name": "python",
   "nbconvert_exporter": "python",
   "pygments_lexer": "ipython3",
   "version": "3.8.5"
  }
 },
 "nbformat": 4,
 "nbformat_minor": 4
}
